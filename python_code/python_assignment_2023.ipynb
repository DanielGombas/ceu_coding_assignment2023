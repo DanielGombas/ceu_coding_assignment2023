{
 "cells": [
  {
   "cell_type": "code",
   "execution_count": 2,
   "id": "2981cfae",
   "metadata": {},
   "outputs": [],
   "source": [
    "#import libraries for reading .csv files and for navigating between folders\n",
    "\n",
    "import os\n",
    "import csv\n",
    "\n",
    "data_path = ('../data')\n",
    "output_path = ('../output')\n",
    "csv_file = open(os.path.join(data_path, 'airbnb_london_listing.csv'), 'r', encoding='utf-8') # data file: https://osf.io/svhkx\n",
    "csv_reader = csv.reader(csv_file)\n",
    "\n",
    "next(csv_reader)  # skip the first row (header)\n",
    "\n",
    "hosts = {} #create dictionary of hosts: keys: host name, values: frequency of name\n",
    "for column in csv_reader:\n",
    "    if column[0] == 'host_name':  # skip the first (header) row\n",
    "        continue\n",
    "    if column[4] in hosts: #host_name is the \n",
    "        hosts[column[4]] += 1\n",
    "    else:\n",
    "        hosts[column[4]] = 1\n",
    "\n",
    "csv_file.close()\n",
    "\n",
    "# print(hosts)\n",
    "\n",
    "#saving the dictionary into a new .csv file\n",
    "\n",
    "with open(os.path.join(output_path, 'host_frequencies.csv'), 'w', newline='', encoding='utf-8') as csv_file:\n",
    "    writer = csv.writer(csv_file)\n",
    "    writer.writerow(['host name', 'frequency']) # columns of the output\n",
    "    for host, frequency in hosts.items(): #filling the columns from the hosts dictionary\n",
    "        writer.writerow([host, frequency])"
   ]
  },
  {
   "cell_type": "code",
   "execution_count": null,
   "id": "da1dfb79",
   "metadata": {},
   "outputs": [],
   "source": []
  }
 ],
 "metadata": {
  "kernelspec": {
   "display_name": "Python 3 (ipykernel)",
   "language": "python",
   "name": "python3"
  },
  "language_info": {
   "codemirror_mode": {
    "name": "ipython",
    "version": 3
   },
   "file_extension": ".py",
   "mimetype": "text/x-python",
   "name": "python",
   "nbconvert_exporter": "python",
   "pygments_lexer": "ipython3",
   "version": "3.9.12"
  }
 },
 "nbformat": 4,
 "nbformat_minor": 5
}
